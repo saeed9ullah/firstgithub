{
 "cells": [
  {
   "cell_type": "markdown",
   "id": "b7845e40",
   "metadata": {},
   "source": [
    "# pyton ka chila with baba Aammar\n",
    "## how to use Jupyter Note Book\n",
    "### Basic of Python\n",
    "01- my firsr program \n"
   ]
  },
  {
   "cell_type": "code",
   "execution_count": 6,
   "id": "d030a619",
   "metadata": {
    "scrolled": true
   },
   "outputs": [
    {
     "name": "stdout",
     "output_type": "stream",
     "text": [
      "5\n",
      "Hello World\n",
      "we are learning python with Aammar\n"
     ]
    }
   ],
   "source": [
    "print(2+3)\n",
    "print(\"Hello World\")\n",
    "print(\"we are learning python with Aammar\")"
   ]
  },
  {
   "cell_type": "markdown",
   "id": "677528cf",
   "metadata": {},
   "source": [
    "**02- operators**"
   ]
  },
  {
   "cell_type": "code",
   "execution_count": 7,
   "id": "09d4805b",
   "metadata": {
    "scrolled": true
   },
   "outputs": [
    {
     "name": "stdout",
     "output_type": "stream",
     "text": [
      "3\n",
      "2\n",
      "3.0\n",
      "6\n",
      "1\n",
      "3\n",
      "8\n",
      "6.5\n"
     ]
    }
   ],
   "source": [
    "print(2+1)\n",
    "print(3-1)\n",
    "print(6/2)\n",
    "print(2*3)\n",
    "print(13%2)\n",
    "print(6//2)\n",
    "print(2**3)\n",
    "\n",
    "print(3**2/2*3/3+6-4)"
   ]
  },
  {
   "cell_type": "markdown",
   "id": "aff22e7e",
   "metadata": {},
   "source": [
    "*PEMDAS*\n",
    "*Parenthesis Exponents Multiplication Divission Addition Substraction\n",
    "left to right sequence for M D & A S*"
   ]
  },
  {
   "cell_type": "code",
   "execution_count": null,
   "id": "7078f317",
   "metadata": {},
   "outputs": [],
   "source": []
  },
  {
   "cell_type": "code",
   "execution_count": null,
   "id": "2016ddd9",
   "metadata": {},
   "outputs": [],
   "source": []
  }
 ],
 "metadata": {
  "kernelspec": {
   "display_name": "Python 3 (ipykernel)",
   "language": "python",
   "name": "python3"
  },
  "language_info": {
   "codemirror_mode": {
    "name": "ipython",
    "version": 3
   },
   "file_extension": ".py",
   "mimetype": "text/x-python",
   "name": "python",
   "nbconvert_exporter": "python",
   "pygments_lexer": "ipython3",
   "version": "3.11.5"
  }
 },
 "nbformat": 4,
 "nbformat_minor": 5
}
